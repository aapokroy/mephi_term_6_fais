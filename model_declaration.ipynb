{
 "cells": [
  {
   "cell_type": "markdown",
   "id": "a3686e33-5838-40fe-b35d-754773f51a09",
   "metadata": {},
   "source": [
    "# Convert SQL relation declaration to python class declaration"
   ]
  },
  {
   "cell_type": "code",
   "execution_count": 324,
   "id": "90cd36fb-d715-4e4c-ac73-474c60de575d",
   "metadata": {},
   "outputs": [],
   "source": [
    "import textwrap"
   ]
  },
  {
   "cell_type": "code",
   "execution_count": 325,
   "id": "f1501c06-3622-4e71-a044-a1764d29122c",
   "metadata": {},
   "outputs": [],
   "source": [
    "def convert(sql_script: str) -> str:\n",
    "    src = textwrap.dedent(sql_script).strip('\\n')\n",
    "    lines = src.splitlines()\n",
    "    table_name = lines[0].split('\"')[1]\n",
    "    \n",
    "    declaration = textwrap.dedent(f'''\n",
    "    class {to_camel_case(table_name)}(Base):\n",
    "        __tablename__ = \"{table_name}\"\n",
    "    ''').strip('\"')\n",
    "    \n",
    "    foreign_keys: dict[str, str] = {}\n",
    "    for line in lines[1:-1]:\n",
    "        line = line.strip(' ,\\t')\n",
    "        if not line.startswith('FOREIGN KEY'):\n",
    "            continue\n",
    "    \n",
    "        parts = line.split()\n",
    "        column = parts[2]\n",
    "        ref = parts[4]\n",
    "        column = column.strip('()\"')\n",
    "        ref = ref.strip('()\"').replace('\"(\"', '.')\n",
    "        foreign_keys[column] = ref\n",
    "    \n",
    "    for line in lines[1:-1]:\n",
    "        line = line.strip(' ,\\t')\n",
    "        if line.startswith('FOREIGN KEY'):\n",
    "            continue\n",
    "    \n",
    "        column, *args = line.split()\n",
    "        column = column.strip('\"')\n",
    "        \n",
    "        is_primary_key = False\n",
    "        nullable = True\n",
    "        unique = False\n",
    "        \n",
    "        if args == ['SERIAL', 'PRIMARY', 'KEY']:\n",
    "            is_primary_key = True\n",
    "        if 'NOT' in args and 'NULL' in args:\n",
    "            nullable = False\n",
    "        if 'UNIQUE' in args:\n",
    "            unique = True\n",
    "    \n",
    "        dtype = None\n",
    "        if 'TEXT' in args:\n",
    "            dtype = 'String'\n",
    "        elif {'INTEGER', 'SMALLINT'} & set(args):\n",
    "            dtype = 'Integer'\n",
    "        elif 'BOOLEAN' in args:\n",
    "            dtype = 'Boolean'\n",
    "        elif 'TIMESTAMP' in args:\n",
    "            dtype = 'DateTime'\n",
    "        elif 'DATE' in args:\n",
    "            dtype = 'Date'\n",
    "        elif any(map(lambda x: x.startswith('NUMERIC'), args)):\n",
    "            dtype = 'Float'\n",
    "        if dtype is None and not is_primary_key:\n",
    "            raise ValueError('Unknown dtype')\n",
    "    \n",
    "        if is_primary_key:\n",
    "            col_declaration = '''\n",
    "            id = Column(Integer, primary_key=True, nullable=False)\n",
    "            '''\n",
    "        else:\n",
    "            col_declaration = '''\n",
    "            {column} = Column({dtype}{foreign_key}, nullable={nullable}, unique={unique})\n",
    "            '''.format(\n",
    "                column=column,\n",
    "                dtype=dtype,\n",
    "                nullable=nullable,\n",
    "                unique=unique,\n",
    "                foreign_key=(\n",
    "                    f\", ForeignKey('{foreign_keys[column]}')\"\n",
    "                    if column in foreign_keys else ''\n",
    "                ),\n",
    "            )\n",
    "    \n",
    "        col_declaration = textwrap.dedent(col_declaration).strip('\\n')\n",
    "        declaration += '\\n    ' + col_declaration\n",
    "    return declaration"
   ]
  },
  {
   "cell_type": "code",
   "execution_count": 326,
   "id": "7ea9be23-a31d-4442-b43b-7860db443cbb",
   "metadata": {},
   "outputs": [
    {
     "name": "stdout",
     "output_type": "stream",
     "text": [
      "\n",
      "class AttemptTestOption(Base):\n",
      "    __tablename__ = \"attempt_test_option\"\n",
      "\n",
      "    id = Column(Integer, primary_key=True, nullable=False)\n",
      "    attempt_id = Column(Integer, nullable=False, unique=False, ForeignKey('attempt.id'))\n",
      "    option_id = Column(Integer, nullable=False, unique=False, ForeignKey('test_option.id'))\n"
     ]
    }
   ],
   "source": [
    "src = '''\n",
    "CREATE TABLE IF NOT EXISTS \"attempt_test_option\" (\n",
    "   \"id\" SERIAL PRIMARY KEY,\n",
    "   \"attempt_id\" INTEGER NOT NULL,\n",
    "   \"option_id\" INTEGER NOT NULL,\n",
    "   FOREIGN KEY (\"attempt_id\") REFERENCES \"attempt\"(\"id\"),\n",
    "   FOREIGN KEY (\"option_id\") REFERENCES \"test_option\"(\"id\")\n",
    ");\n",
    "'''\n",
    "\n",
    "print(convert(src))"
   ]
  }
 ],
 "metadata": {
  "kernelspec": {
   "display_name": "Python 3 (ipykernel)",
   "language": "python",
   "name": "python3"
  },
  "language_info": {
   "codemirror_mode": {
    "name": "ipython",
    "version": 3
   },
   "file_extension": ".py",
   "mimetype": "text/x-python",
   "name": "python",
   "nbconvert_exporter": "python",
   "pygments_lexer": "ipython3",
   "version": "3.9.18"
  }
 },
 "nbformat": 4,
 "nbformat_minor": 5
}
